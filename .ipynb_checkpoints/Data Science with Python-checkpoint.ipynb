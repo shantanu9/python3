{
 "cells": [
  {
   "cell_type": "markdown",
   "metadata": {},
   "source": [
    "## Data Science\n",
    "Data Science is about finding and exploring data in real world, and then using that knowledge to solve business problem.\n",
    "\n",
    "## Python libraries for data analysis\n",
    "    pandas: is used for structure operations % manipulation.\n",
    "        Series in pandas is a one-dimentional object that can hold any data type such as integers, floats and strings.\n",
    "        DataFrame is two dimensional object that can have columns with potential different data types.\n",
    "    \n",
    "    numpy: is fundamental package for scientific computing. \n",
    "    scipy:  is set of scientific and numerical tools for python. It supports special functions, integration, ordinary differential equation(ODE) solvers, gradient optimization, etc...\n",
    "    matplotlib,\n",
    "    scikit learn\n",
    "\n",
    "#### For ML-DL\n",
    "Networkx & I graph,\n",
    "Tensorflow,\n",
    "BeautifulSoup,\n",
    "OS"
   ]
  }
 ],
 "metadata": {
  "kernelspec": {
   "display_name": "Python 3",
   "language": "python",
   "name": "python3"
  },
  "language_info": {
   "codemirror_mode": {
    "name": "ipython",
    "version": 3
   },
   "file_extension": ".py",
   "mimetype": "text/x-python",
   "name": "python",
   "nbconvert_exporter": "python",
   "pygments_lexer": "ipython3",
   "version": "3.4.3"
  }
 },
 "nbformat": 4,
 "nbformat_minor": 2
}
