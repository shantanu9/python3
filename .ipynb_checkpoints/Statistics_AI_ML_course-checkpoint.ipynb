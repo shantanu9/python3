{
 "cells": [
  {
   "cell_type": "code",
   "execution_count": 2,
   "metadata": {},
   "outputs": [
    {
     "data": {
      "text/plain": [
       "'Descriptve Statistics consist of organizing and summarizing the data and\\nInferential statistics consists of using data you have measured to form conclusions.\\n\\nAges of student:\\n19,21,18,18,34,30,25,24,24,19,18,21,49,27.\\n\\nDescriptive question that could be asked about this data: \"What\\'s  the most  common age of \\nstudent in your statistics class?\" Answer:  that would be 18.\\n\\nInferential question could be asked about this data: \"Are the ages of students  on this \\nclass similar to what you  would expect in a normal statistics class\\nat this university\" ?\\n\\nPopulation : the group you are interested in studying. \\nSample:  a subset of the population. '"
      ]
     },
     "execution_count": 2,
     "metadata": {},
     "output_type": "execute_result"
    }
   ],
   "source": [
    "\"\"\"Descriptve Statistics consist of organizing and summarizing the data and\n",
    "Inferential statistics consists of using data you have measured to form conclusions.\n",
    "\n",
    "Ages of student:\n",
    "19,21,18,18,34,30,25,24,24,19,18,21,49,27.\n",
    "\n",
    "Descriptive question that could be asked about this data: \"What's  the most  common age of \n",
    "student in your statistics class?\" Answer:  that would be 18.\n",
    "\n",
    "Inferential question could be asked about this data: \"Are the ages of students  on this \n",
    "class similar to what you  would expect in a normal statistics class\n",
    "at this university\" ?\n",
    "\n",
    "Population : the group you are interested in studying. \n",
    "Sample:  a subset of the population. \"\"\"\n",
    "\n",
    "\n"
   ]
  },
  {
   "cell_type": "code",
   "execution_count": null,
   "metadata": {},
   "outputs": [],
   "source": []
  },
  {
   "cell_type": "code",
   "execution_count": null,
   "metadata": {},
   "outputs": [],
   "source": []
  }
 ],
 "metadata": {
  "kernelspec": {
   "display_name": "Python 3",
   "language": "python",
   "name": "python3"
  },
  "language_info": {
   "codemirror_mode": {
    "name": "ipython",
    "version": 3
   },
   "file_extension": ".py",
   "mimetype": "text/x-python",
   "name": "python",
   "nbconvert_exporter": "python",
   "pygments_lexer": "ipython3",
   "version": "3.4.3"
  }
 },
 "nbformat": 4,
 "nbformat_minor": 2
}
