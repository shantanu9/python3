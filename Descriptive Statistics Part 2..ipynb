{
 "cells": [
  {
   "cell_type": "markdown",
   "metadata": {},
   "source": [
    "https://www.youtube.com/watch?v=ZkEjYloGRIE\n",
    "\n",
    "# Descriptive Statistics Part 2\n",
    "\n",
    "# Measures of Position\n",
    "    Percentiles : values that divides a set of observations into 100 equal parts. \n",
    "    examples: 33 = P50\n",
    "              73 = P75\n",
    "    \n",
    "   Quartiles:  a rank-ordered data set into 4 equal parts. \n",
    "       In terms of percentiles,  quartiles can be defined as follows: Q1=P25, Q2=P50, Q3=P75, Q4=P100\n",
    "    examples: 33 = P50 = Q2\n",
    "              73 = P75 = Q3\n",
    "    \n",
    "   Standard Scores: tell us how many SD an element is far from Mean(M). Commonly used standard score is z-score. \n",
    "    \n",
    "# Z score: specifies the precise location of each X value within a distribution. \n",
    "            z = (X - u)/variance :  relative to population\n",
    "            z = (X - M)/SD       :  relative to sample\n",
    "            \n",
    "       \n",
    "      # Z score interpretation:   \n",
    "            if z = 0:  Value X is equals to mean (M).\n",
    "            elif: z < 0:  Value is z*SD less/close than the mean (M).\n",
    "            else: z > 0:  Value is z*SD greater/far than the mean (M). \n",
    "            \n",
    "            \n",
    "            \n",
    "Problem example:  M = 100, SD = 15\n",
    "What can we say about score of X = 130 ?\n",
    "\n",
    "z = (X - M)/SD :  (130 - 100)/15 = +2.0\n",
    "\n",
    "It means value is +2 times the SD greater than the mean. It is unsual. \n",
    "\n",
    "As per standard convention, any value with z-score less than -1.96 and greater than +1.96 are considered as unusual in the distribution. \n",
    "            "
   ]
  },
  {
   "cell_type": "code",
   "execution_count": null,
   "metadata": {},
   "outputs": [],
   "source": []
  },
  {
   "cell_type": "code",
   "execution_count": 23,
   "metadata": {},
   "outputs": [
    {
     "name": "stdout",
     "output_type": "stream",
     "text": [
      "Value 1000 is 4.122448979591836 times standard deviation 147  greater than mean 394 and it is unusual\n"
     ]
    }
   ],
   "source": [
    "distribution = [600, 470, 170, 430, 300]\n",
    "\n",
    "def mean(lists):                                      # to calculate the mean (M) of the distribution\n",
    "    sum = 0\n",
    "    \n",
    "    for element in lists:\n",
    "        sum+=element \n",
    "    mean = int(sum/len(lists))\n",
    "    return mean\n",
    "\n",
    "def square(n):                                        # function to return the square of given integer\n",
    "    return (n*n)    \n",
    "\n",
    "def variance(lists):                                  # function to determine the variance in the distribution\n",
    "    sqsum = 0\n",
    "    \n",
    "    M = mean(lists)                                   #step1 of variance:  to calculate M\n",
    "    \n",
    "    for element in lists:                             # step 2 & step 3. \n",
    "        a = abs(M-element)\n",
    "        sqsum += square(a) \n",
    "        \n",
    "    return int(sqsum/len(lists))\n",
    "\n",
    "import math\n",
    "\n",
    "def SD(distribution):\n",
    "    \n",
    "    return int(math.sqrt(variance(distribution))) \n",
    "\n",
    "\n",
    "def z_score (x,lis):                              # function to calculate z score of x in lis\n",
    "    \n",
    "    m = mean(lis)\n",
    "    \n",
    "    sd = SD(lis)\n",
    "    \n",
    "    z = (x - m)/sd\n",
    "    if z == 0: \n",
    "        print (\"Value \",x,\"equals to \",m)\n",
    "    elif z < 0: \n",
    "        if z < -1.96:\n",
    "            print (\"Value\", x,\"is\",z,\" times standard deviation\",sd,\"less than mean\",m,\"and it is unusual\")\n",
    "        else:\n",
    "            print (\"Value\", x,\"is\",z,\" times standard deviation\",sd,\" less than mean\",m)\n",
    "    elif z > 0: \n",
    "        if z > 1.96:\n",
    "            print (\"Value\", x,\"is\",z,\"times standard deviation\",sd,\" greater than mean\",m,\"and it is unusual\")\n",
    "        else:\n",
    "            print (\"Value\", x,\"is\",z,\"times standard deviation\",sd,\"greater than mean\",m)\n",
    "                \n",
    "        \n",
    "z_score(1000,distribution)\n",
    "            "
   ]
  },
  {
   "cell_type": "code",
   "execution_count": null,
   "metadata": {},
   "outputs": [],
   "source": []
  }
 ],
 "metadata": {
  "kernelspec": {
   "display_name": "Python 3",
   "language": "python",
   "name": "python3"
  },
  "language_info": {
   "codemirror_mode": {
    "name": "ipython",
    "version": 3
   },
   "file_extension": ".py",
   "mimetype": "text/x-python",
   "name": "python",
   "nbconvert_exporter": "python",
   "pygments_lexer": "ipython3",
   "version": "3.4.3"
  }
 },
 "nbformat": 4,
 "nbformat_minor": 2
}
