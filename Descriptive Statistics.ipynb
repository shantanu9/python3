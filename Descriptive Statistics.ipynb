{
 "cells": [
  {
   "cell_type": "markdown",
   "metadata": {},
   "source": [
    "\n",
    "https://www.youtube.com/watch?v=8Iklj-lf1fY\n",
    "\n",
    "Distribution\n",
    "Measure of central tendency\n",
    "dispersion\n",
    "SPSS\n",
    "Reporting discriptive statistics\n",
    "\n",
    "\n",
    "# Distribution :  \n",
    "a list of scores taken on some particular variable. \n",
    "\n",
    "example:  69,77,77,77,84,85,85, 87, 92,98\n",
    "\n",
    "\n",
    "# Measure of central tendency\n",
    "\n",
    "mean(M):  sum of scores divided by the number of scores.\n",
    "example: (69,77,77,77,84,85,85, 87, 92,98)/10 = 83.1\n",
    "\n",
    "median(Mdn):  the middle score of all the scores in a distribution \n",
    "               from highest to lowest.\n",
    "example:  69,77,77,77,84, (84.5) ,85,85, 87, 92,98.\n",
    "Mdn: 84.5\n",
    "\n",
    "mode(Md):  the value with the greated frequency in the distribution.\n",
    "example:  77.\n",
    "\n",
    "Categorical score:  mode\n",
    "ordinal data :  median\n",
    "quantitative (ratio/interval) scores: mean (can be decieving in case of outliers.)\n",
    "\n",
    "# dispersion\n",
    "range:  distance between maximum and minimum\n",
    "example: 98-69=29\n",
    "\n",
    "variance: It is the average of the squared differences from the mean.  calculate the mean. \n",
    "for each number in the distribution,  subtract the mean (e.g 98-83.1, 92-83.1....abs(69-83.1)) and square the number. \n",
    "calculate the average of the squared differences = 70.54\n",
    "\n",
    "Standard deviation:  commonly used measure of dispersion, is simply the square root of the variance = 8.39\n",
    "it measure the dispersion of scores around the mean.  \n",
    " \n",
    "\n",
    "*****************************************************************\n",
    "\n",
    "Problem example:  class of 5 students. course points can range from \n",
    "0-600.  Following are the points: 600, 470, 170, 430, 300.  \n",
    "\n",
    "Variance step1: calculate the mean(M):  (600+470+170+430+300)/5 = 1970/5 = 394\n",
    "\n",
    "Variance step2: for each number in the distribution, subtract the mean.  600-394 = 206\n",
    "       470-394 = 76\n",
    "       170-394 = 224\n",
    "       430-394 = 36\n",
    "       300-394 = 94\n",
    "       \n",
    "Variance step3: then square that number, add the numbers, and divide by N to calculate the variance.  \n",
    "\n",
    "Variance = (206^2 + 76^2 + 224^2 + 36^2 + 94^2)/5 = 108,520/5 = 21,704\n",
    "Variance is 21,704.\n",
    "\n",
    "Standard Deviation is the sqaure root of variance: sqrt(21,704)= 147\n",
    "\n",
    "M=394\n",
    "SD=147\n",
    "\n",
    "Score between 220(394-147) and 541(394+147) falls within one SD of M. Three scores (470, 430, 300) falls within one SD. \n",
    "\n",
    "One student has high acheiver (600) and one has a low achiever(220) in this case. \n",
    "\n",
    "*********************************************************\n",
    "\n",
    "Larger the SD, the larger the spread of scores around the mean(M) and each other.  \n",
    "\n",
    "\n",
    "# Reporting discriptive statistics\n",
    "\n",
    "It is how we report the descriptive statitics data. Notations basically.  \n",
    " "
   ]
  },
  {
   "cell_type": "code",
   "execution_count": 1,
   "metadata": {},
   "outputs": [
    {
     "name": "stdout",
     "output_type": "stream",
     "text": [
      "6\n"
     ]
    }
   ],
   "source": [
    "\n"
   ]
  },
  {
   "cell_type": "code",
   "execution_count": null,
   "metadata": {},
   "outputs": [],
   "source": []
  }
 ],
 "metadata": {
  "kernelspec": {
   "display_name": "Python 3",
   "language": "python",
   "name": "python3"
  },
  "language_info": {
   "codemirror_mode": {
    "name": "ipython",
    "version": 3
   },
   "file_extension": ".py",
   "mimetype": "text/x-python",
   "name": "python",
   "nbconvert_exporter": "python",
   "pygments_lexer": "ipython3",
   "version": "3.4.3"
  }
 },
 "nbformat": 4,
 "nbformat_minor": 2
}
