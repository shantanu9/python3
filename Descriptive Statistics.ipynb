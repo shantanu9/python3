{
 "cells": [
  {
   "cell_type": "markdown",
   "metadata": {},
   "source": [
    "\n",
    "https://www.youtube.com/watch?v=8Iklj-lf1fY\n",
    "\n",
    "Distribution\n",
    "Measure of central tendency\n",
    "dispersion\n",
    "SPSS\n",
    "Reporting discriptive statistics\n",
    "\n",
    "\n",
    "# Distribution :  \n",
    "a list of scores taken on some particular variable. \n",
    "\n",
    "example:  69,77,77,77,84,85,85, 87, 92,98\n",
    "\n",
    "\n",
    "# Measure of central tendency\n",
    "\n",
    "mean(M):  sum of scores divided by the number of scores.\n",
    "example: (69,77,77,77,84,85,85, 87, 92,98)/10 = 83.1\n",
    "\n",
    "median(Mdn):  the middle score of all the scores in a distribution \n",
    "               from highest to lowest.\n",
    "example:  69,77,77,77,84, (84.5) ,85,85, 87, 92,98.\n",
    "Mdn: 84.5\n",
    "\n",
    "mode(Md):  the value with the greated frequency in the distribution.\n",
    "example:  77.\n",
    "\n",
    "Categorical score:  mode\n",
    "ordinal data :  median\n",
    "quantitative (ratio/interval) scores: mean (can be decieving in case of outliers.)\n",
    "\n",
    "# dispersion\n",
    "range:  distance between maximum and minimum\n",
    "example: 98-69=29\n",
    "\n",
    "variance: It is the average of the squared differences from the mean.  calculate the mean. \n",
    "for each number in the distribution,  subtract the mean (e.g 98-83.1, 92-83.1....abs(69-83.1)) and square the number. \n",
    "calculate the average of the squared differences = 70.54\n",
    "\n",
    "Standard deviation:  commonly used measure of dispersion, is simply the square root of the variance = 8.39\n",
    "it measure the dispersion of scores around the mean.  \n",
    " \n",
    "\n",
    "*****************************************************************\n",
    "\n",
    "Problem example:  class of 5 students. course points can range from \n",
    "0-600.  Following are the points: 600, 470, 170, 430, 300.  \n",
    "\n",
    "Variance step1: calculate the mean(M):  (600+470+170+430+300)/5 = 1970/5 = 394\n",
    "\n",
    "Variance step2: for each number in the distribution, subtract the mean.  600-394 = 206\n",
    "       470-394 = 76\n",
    "       170-394 = 224\n",
    "       430-394 = 36\n",
    "       300-394 = 94\n",
    "       \n",
    "Variance step3: then square that number, add the numbers, and divide by N to calculate the variance.  \n",
    "\n",
    "Variance = (206^2 + 76^2 + 224^2 + 36^2 + 94^2)/5 = 108,520/5 = 21,704\n",
    "Variance is 21,704.\n",
    "\n",
    "Standard Deviation is the sqaure root of variance: sqrt(21,704)= 147\n",
    "\n",
    "M=394\n",
    "SD=147\n",
    "\n",
    "Score between 220(394-147) and 541(394+147) falls within one SD of M. Three scores (470, 430, 300) falls within one SD. \n",
    "\n",
    "One student has high acheiver (600) and one has a low achiever(220) in this case. \n",
    "\n",
    "*********************************************************\n",
    "\n",
    "Larger the SD, the larger the spread of scores around the mean(M) and each other.  \n",
    "\n",
    "\n",
    "# Reporting discriptive statistics\n",
    "\n",
    "It is how we report the descriptive statitics data. Notations basically.  \n",
    " "
   ]
  },
  {
   "cell_type": "code",
   "execution_count": 17,
   "metadata": {},
   "outputs": [
    {
     "name": "stdout",
     "output_type": "stream",
     "text": [
      "mean(M) of the distribution is:  394\n"
     ]
    }
   ],
   "source": [
    "distribution = [600, 470, 170, 430, 300]\n",
    "sum = 0\n",
    "\n",
    "def mean(lists):                                      # to calculate the mean (M) of the distribution\n",
    "    sum = 0\n",
    "    \n",
    "    for element in lists:\n",
    "        sum+=element \n",
    "    mean = int(sum/len(lists))\n",
    "    return mean\n",
    "\n",
    "M = mean(distribution)\n",
    "\n",
    "print (\"mean(M) of the distribution is: \", M)\n"
   ]
  },
  {
   "cell_type": "code",
   "execution_count": 15,
   "metadata": {},
   "outputs": [
    {
     "name": "stdout",
     "output_type": "stream",
     "text": [
      "Range of the disribution is:  430\n"
     ]
    }
   ],
   "source": [
    "range = max(distribution) - min(distribution)         # to calculate the Range of the disribution\n",
    "print (\"Range of the disribution is: \",range)"
   ]
  },
  {
   "cell_type": "code",
   "execution_count": 67,
   "metadata": {},
   "outputs": [
    {
     "name": "stdout",
     "output_type": "stream",
     "text": [
      "Variance of the distribution is:  21704\n"
     ]
    }
   ],
   "source": [
    "def square(n):                                        # function to return the square of given integer\n",
    "    return (n*n)    \n",
    "\n",
    "def variance(lists):                                  # function to determine the variance in the distribution\n",
    "    sqsum = 0\n",
    "    \n",
    "    M = mean(lists)                                   #step1 of variance:  to calculate M\n",
    "    \n",
    "    for element in lists:                             # step 2 & step 3. \n",
    "        a = abs(M-element)\n",
    "        sqsum += square(a) \n",
    "        \n",
    "    return int(sqsum/len(lists))\n",
    "            \n",
    "            \n",
    "print (\"Variance of the distribution is: \",variance(distribution))"
   ]
  },
  {
   "cell_type": "code",
   "execution_count": 38,
   "metadata": {},
   "outputs": [
    {
     "name": "stdout",
     "output_type": "stream",
     "text": [
      "Standard Deviation(sqrt(variance)) of the distribution is : 147\n"
     ]
    }
   ],
   "source": [
    "import math\n",
    "SD = int(math.sqrt(variance(distribution)))            # standard deviation is the sqrt of variance\n",
    "print (\"Standard Deviation(sqrt(variance)) of the distribution is :\", SD)"
   ]
  },
  {
   "cell_type": "code",
   "execution_count": 68,
   "metadata": {},
   "outputs": [
    {
     "name": "stdout",
     "output_type": "stream",
     "text": [
      "elements present in 2 SD of M are:  [600, 470, 170, 430, 300]\n"
     ]
    }
   ],
   "source": [
    "def nSDofM(n,lists):                                  # to find out the elements which falls under n SD of M. \n",
    "    rangeofSD = [abs((n*SD)-M),abs((n*SD)+M)]\n",
    "    r = (rangeofSD)\n",
    "    lis = []\n",
    "    \n",
    "    for element in distribution:\n",
    "        if min(r) < element < max(r):\n",
    "            lis.append(element)\n",
    "                 \n",
    "    return lis\n",
    "\n",
    "n = 2  \n",
    "print (\"elements present in\",n,\"SD of M are: \",nSDofM(n,distribution))\n",
    "    "
   ]
  },
  {
   "cell_type": "code",
   "execution_count": null,
   "metadata": {},
   "outputs": [],
   "source": []
  }
 ],
 "metadata": {
  "kernelspec": {
   "display_name": "Python 3",
   "language": "python",
   "name": "python3"
  },
  "language_info": {
   "codemirror_mode": {
    "name": "ipython",
    "version": 3
   },
   "file_extension": ".py",
   "mimetype": "text/x-python",
   "name": "python",
   "nbconvert_exporter": "python",
   "pygments_lexer": "ipython3",
   "version": "3.4.3"
  }
 },
 "nbformat": 4,
 "nbformat_minor": 2
}
