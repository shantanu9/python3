{
 "cells": [
  {
   "cell_type": "markdown",
   "metadata": {},
   "source": [
    "##### What is data Science ? \n",
    "\n",
    "Ds involves using automated methods to analyze massive amounts of data and to extract knowledge from them.\n",
    "\n",
    "Aspects of statistics, computer science,  applied mathematics and visualization, data science can turn the vast amounts of data the digital age generates into insights and new knowledge. \n"
   ]
  },
  {
   "cell_type": "markdown",
   "metadata": {},
   "source": [
    "##### Important skilss to have in python with regards to data analysis.\n",
    "\n",
    "Anaconda \n",
    "efficient list comprehension instead of traditional for loops\n"
   ]
  },
  {
   "cell_type": "markdown",
   "metadata": {},
   "source": [
    "##### What is Selection Bias ? \n",
    "\n",
    "Selection bias is the bias introduced by the selection of individuals, groups or data for analysis in such a way that proper randomization is not achieved, thereby ensuring that the sample obtained is not representative of the population intended to be analyzed.\n",
    "\n",
    "it is sometimes referred to as the selection effect.  \n",
    "\n",
    "It is the distortion of a statistical analysis, resulting from the method of collecting samples.\n",
    "\n",
    "If selection bias is not taken into account, then conclusion of the study might not be accurate enough.\n",
    "\n",
    "Sampling bias: it is systematic error due to non-random sample of as population causing some members of the population to be less likely to be included than other resulting in a biased sample. \n",
    "\n",
    "Time Interval:  A trial may be terminated early at an extreme value, but the extreme value is likely to be reached by the variable with the largest variance, even if all the variables have similar mean.\n",
    "\n",
    "Data: When specific subsets of data are chosen to support a conclusion or rejected of bad data on arbitrary grounds, instead of according to previously stated or generally agreed criteria. \n",
    "\n",
    "Attrition:  bias is a kind of selection bias caused by attrition disconting trial subjects/tests that did not run to completion. \n",
    "\n"
   ]
  },
  {
   "cell_type": "markdown",
   "metadata": {},
   "source": [
    "##### Difference between \"long\" and \"wide\" format data ?\n",
    "\n",
    "Wide: a subject's repeated responsed will be in a single row, and each respnse is in a separate column.\n",
    "\n",
    "eg:     Name Height Weight\n",
    "Row 1    XYZ   1      2\n",
    "Row 2    ABC   3      4 \n",
    "\n",
    "Long:  each row is one time point per subject.  \n",
    "\n",
    "eg:  Name Attribute Value\n",
    "Row1 XYZ    Height   1\n",
    "Row2 ABC    Height   3\n",
    "Row3 XYZ    Weight   2\n",
    "Row4 ABC    Weight   4"
   ]
  },
  {
   "cell_type": "markdown",
   "metadata": {},
   "source": [
    "### Statistical \n",
    "##### Normal Distribution ?\n",
    "\n",
    "Data is usually distributed in different ways with a bias to the left or to the right or it can all be jumbled up.\n",
    "\n",
    "However, there are chances that data is ditributed around a central value without any bias to the left or right and reaches normal distribution in the form of a bell shaped curve. \n",
    "\n",
    "The random vairables are distrbuted in the form of an symmetrical bell shaped curve. "
   ]
  },
  {
   "cell_type": "markdown",
   "metadata": {},
   "source": [
    "##### Goal of A/B testing:\n",
    "\n",
    "Statistical hypothesis testing for randomized experiment with two variables A and B. \n",
    "\n",
    "Goal of A/B testing is to identify any changes to the web page to maximize or increase the outcome of an interest.\n",
    "\n"
   ]
  },
  {
   "cell_type": "markdown",
   "metadata": {},
   "source": [
    "##### Statistical power of sensitivity and how to calculate ?\n",
    "\n",
    "Sensitivity is commonly used to validate the accuracy of a classifier (superviser leanring)\n",
    "\n",
    "True Positives / Total positives. "
   ]
  },
  {
   "cell_type": "markdown",
   "metadata": {},
   "source": [
    "##### Overfitting and Underfitting ?\n",
    "\n",
    "Overfitting, A statistical model describes random error or noise instead of the underlying relationshp. Overfitting occurs when a model is excessively complex, such as having too many parameters relative to the number of observations. A model that has been overfit has poor predictive performance, as it overreacts to minor fluctuations in the training data. \n",
    "\n",
    "Underfitting occurs when a statistical model or machine learning algo cannot capture the underlyinh trend of the data. underfitting would occur, for example when fitting a non-liner data. Such a model would have poor predictive performance. \n"
   ]
  },
  {
   "cell_type": "markdown",
   "metadata": {},
   "source": [
    "### Data Analysis\n",
    "##### Text Analytics \n",
    "\n"
   ]
  },
  {
   "cell_type": "markdown",
   "metadata": {},
   "source": [
    "Role of data cleaning in analysis\n",
    "\n",
    "Cleaning data from multiple sources helps to transform it into a format that data analysts or data scientist can work with. \n",
    "\n",
    "Data cleaning helps to increase the accuracy of the model in ML.\n",
    "\n",
    "Cumbersome pro\n",
    "ess because as the number of data sources increases, the time taken to clean the data increases exponentially due to the number of sources and the volumes od data generated in these sources. \n"
   ]
  },
  {
   "cell_type": "markdown",
   "metadata": {},
   "source": [
    "univariate, Bivaraite and multivariate analysis. \n",
    "\n",
    "These are the descriptive statistical analysis techniques which can be differentiated based on the number of variables involved at a given point of time.  \n",
    "\n",
    "If the analysis attempts to understand the difference between 2 variables at time as in a scatterplot, then it is reffered to as bivariate analysis. \n",
    "\n",
    "Analysis that deals with the study of more than 2 variables to understand the effect of variables on the responses is referred to as multivariate analysis.  \n"
   ]
  },
  {
   "cell_type": "markdown",
   "metadata": {},
   "source": [
    "Cluster Sampling \n",
    "is a techniques used when it becomes difficult to study the target population spread across a wide area and simple random sampling cannot be applied. \n",
    "\n",
    "Cluster sample is a probability sample where each sampling unit is a collection, or cluster of elements. \n"
   ]
  },
  {
   "cell_type": "markdown",
   "metadata": {},
   "source": [
    "Systematic sampling:  \n",
    "is as statistical technique where elements are selected from an ordered sampling frame. \n",
    "\n",
    "the list of progressed in a circular manner so once you reach the end of the list, it is progressed from the top again.  the best example for systematic sampling is equal probabality method.\n"
   ]
  },
  {
   "cell_type": "markdown",
   "metadata": {},
   "source": [
    "Eigenvectors and Eigenvalues\n",
    "\n",
    "Eigenvectors are used for understanding linear transformation. \n",
    "\n",
    "In data analysis, we usually calculate the eigenvectors for a correlation or covariance matrix. \n",
    "Eigenvectors, are the direcitons along which a particular liner transformation acts by flipping, compressing or stretching.  \n",
    "Eigenvalue can be refrred to as the strength of the transformation in the direction of the eigenvector or the factor by which compression occurs.  "
   ]
  },
  {
   "cell_type": "markdown",
   "metadata": {},
   "source": [
    "False Positives:  are the cases where you wrongly classified a non-event as event aka Type error.\n",
    "\n",
    "False Negatives:  are the cases where yo wrongly classify events as non-events, aka Type 2 error. "
   ]
  }
 ],
 "metadata": {
  "kernelspec": {
   "display_name": "Python 3",
   "language": "python",
   "name": "python3"
  },
  "language_info": {
   "codemirror_mode": {
    "name": "ipython",
    "version": 3
   },
   "file_extension": ".py",
   "mimetype": "text/x-python",
   "name": "python",
   "nbconvert_exporter": "python",
   "pygments_lexer": "ipython3",
   "version": "3.4.3"
  }
 },
 "nbformat": 4,
 "nbformat_minor": 2
}
