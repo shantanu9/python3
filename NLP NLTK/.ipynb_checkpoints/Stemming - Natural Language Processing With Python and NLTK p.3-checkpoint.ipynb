{
 "cells": [
  {
   "cell_type": "markdown",
   "metadata": {},
   "source": [
    "            Stemming:  is the process  of producing morphological variants of a root/base word.  Stemming programs are commonly referred to as stemming algorithms.  \n",
    "            Application of stemming:  it is used in information retrieval systems like search engines.  \n",
    "            "
   ]
  },
  {
   "cell_type": "code",
   "execution_count": 4,
   "metadata": {},
   "outputs": [
    {
     "name": "stdout",
     "output_type": "stream",
     "text": [
      "python : python\n",
      "pythoner : python\n",
      "pythoning : python\n",
      "pythonized : python\n",
      "pythonly : pythonli\n"
     ]
    }
   ],
   "source": [
    "from nltk.stem import PorterStemmer\n",
    "from nltk.tokenize import word_tokenize\n",
    "\n",
    "ps = PorterStemmer()\n",
    "\n",
    "example_words = [\"python\", \"pythoner\", \"pythoning\", \"pythonized\", \"pythonly\"]\n",
    "\n",
    "for w in example_words:\n",
    "    print (w, \":\", ps.stem(w))\n",
    "    "
   ]
  },
  {
   "cell_type": "code",
   "execution_count": 5,
   "metadata": {
    "scrolled": true
   },
   "outputs": [
    {
     "name": "stdout",
     "output_type": "stream",
     "text": [
      "Programmers : programm\n",
      "use : use\n",
      "programming : program\n",
      "languages : languag\n",
      "to : to\n",
      "write : write\n",
      "complex : complex\n",
      "programs : program\n"
     ]
    }
   ],
   "source": [
    "# stemming from sentences\n",
    "\n",
    "from nltk.stem import PorterStemmer\n",
    "from nltk.tokenize import word_tokenize\n",
    "\n",
    "ps = PorterStemmer()\n",
    "\n",
    "sentence = \"Programmers use programming languages to write complex programs\"\n",
    "words = word_tokenize(sentence)\n",
    "\n",
    "for w in words:\n",
    "    print (w,\":\",ps.stem(w))"
   ]
  }
 ],
 "metadata": {
  "kernelspec": {
   "display_name": "Python 3",
   "language": "python",
   "name": "python3"
  },
  "language_info": {
   "codemirror_mode": {
    "name": "ipython",
    "version": 3
   },
   "file_extension": ".py",
   "mimetype": "text/x-python",
   "name": "python",
   "nbconvert_exporter": "python",
   "pygments_lexer": "ipython3",
   "version": "3.4.3"
  }
 },
 "nbformat": 4,
 "nbformat_minor": 2
}
