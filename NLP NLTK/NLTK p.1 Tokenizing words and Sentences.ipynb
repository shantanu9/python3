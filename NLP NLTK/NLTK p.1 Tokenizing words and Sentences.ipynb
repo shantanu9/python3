{
 "cells": [
  {
   "cell_type": "markdown",
   "metadata": {},
   "source": [
    "#### Intro to Natural Language processing "
   ]
  },
  {
   "cell_type": "code",
   "execution_count": 2,
   "metadata": {},
   "outputs": [
    {
     "name": "stdout",
     "output_type": "stream",
     "text": [
      "['hello Mr shantanu, how are you ?', 'The weather is great and python is awesome.', 'Sky is pink']\n",
      "['hello', 'Mr', 'shantanu', ',', 'how', 'are', 'you', '?', 'The', 'weather', 'is', 'great', 'and', 'python', 'is', 'awesome', '.', 'Sky', 'is', 'pink']\n"
     ]
    }
   ],
   "source": [
    "import nltk\n",
    "#nltk.download('punkt')\n",
    "from nltk.tokenize import sent_tokenize, word_tokenize\n",
    "\n",
    "# tokenizing - word tokenizer or... sentence tokenizer\n",
    "# lexicon:  words and their means\n",
    "# corpora:  body of text\n",
    "\n",
    "\n",
    "text = \"hello Mr shantanu, how are you ? The weather is great and python is awesome. Sky is pink\"\n",
    "\n",
    "print (sent_tokenize(text))\n",
    "\n",
    "print (word_tokenize(text))"
   ]
  },
  {
   "cell_type": "code",
   "execution_count": 3,
   "metadata": {},
   "outputs": [
    {
     "name": "stdout",
     "output_type": "stream",
     "text": [
      "hello\n",
      "Mr\n",
      "shantanu\n",
      ",\n",
      "how\n",
      "are\n",
      "you\n",
      "?\n",
      "The\n",
      "weather\n",
      "is\n",
      "great\n",
      "and\n",
      "python\n",
      "is\n",
      "awesome\n",
      ".\n",
      "Sky\n",
      "is\n",
      "pink\n"
     ]
    }
   ],
   "source": [
    "for i in word_tokenize(text):\n",
    "    print (i)"
   ]
  },
  {
   "cell_type": "code",
   "execution_count": 4,
   "metadata": {},
   "outputs": [
    {
     "name": "stdout",
     "output_type": "stream",
     "text": [
      "*** Introductory Examples for the NLTK Book ***\n",
      "Loading text1, ..., text9 and sent1, ..., sent9\n",
      "Type the name of the text or sentence to view it.\n",
      "Type: 'texts()' or 'sents()' to list the materials.\n",
      "text1: Moby Dick by Herman Melville 1851\n",
      "text2: Sense and Sensibility by Jane Austen 1811\n",
      "text3: The Book of Genesis\n",
      "text4: Inaugural Address Corpus\n",
      "text5: Chat Corpus\n",
      "text6: Monty Python and the Holy Grail\n",
      "text7: Wall Street Journal\n",
      "text8: Personals Corpus\n",
      "text9: The Man Who Was Thursday by G . K . Chesterton 1908\n"
     ]
    }
   ],
   "source": [
    "#nltk.download('treebank')\n",
    "#nltk.download('webtext')\n",
    "#nltk.download('nps_chat')\n",
    "#nltk.download('inaugural')\n",
    "#nltk.download('genesis')\n",
    "\n",
    "# the book module\n",
    "from nltk.book import *     \n",
    "#nltk.download('gutenberg')\n",
    " \n"
   ]
  },
  {
   "cell_type": "code",
   "execution_count": 6,
   "metadata": {},
   "outputs": [
    {
     "data": {
      "text/plain": [
       "(<Text: Moby Dick by Herman Melville 1851>,\n",
       " <Text: Sense and Sensibility by Jane Austen 1811>)"
      ]
     },
     "execution_count": 6,
     "metadata": {},
     "output_type": "execute_result"
    }
   ],
   "source": [
    "text1, text2\n"
   ]
  },
  {
   "cell_type": "code",
   "execution_count": 9,
   "metadata": {},
   "outputs": [
    {
     "name": "stdout",
     "output_type": "stream",
     "text": [
      "Displaying 11 of 11 matches:\n",
      "ong the former , one was of a most monstrous size . ... This came towards us , \n",
      "ON OF THE PSALMS . \" Touching that monstrous bulk of the whale or ork we have r\n",
      "ll over with a heathenish array of monstrous clubs and spears . Some were thick\n",
      "d as you gazed , and wondered what monstrous cannibal and savage could ever hav\n",
      "that has survived the flood ; most monstrous and most mountainous ! That Himmal\n",
      "they might scout at Moby Dick as a monstrous fable , or still worse and more de\n",
      "th of Radney .'\" CHAPTER 55 Of the Monstrous Pictures of Whales . I shall ere l\n",
      "ing Scenes . In connexion with the monstrous pictures of whales , I am strongly\n",
      "ere to enter upon those still more monstrous stories of them which are to be fo\n",
      "ght have been rummaged out of this monstrous cabinet there is no telling . But \n",
      "of Whale - Bones ; for Whales of a monstrous size are oftentimes cast up dead u\n",
      "Displaying 25 of 38 matches:\n",
      "ay when they were created . And Adam lived an hundred and thirty years , and be\n",
      "ughters : And all the days that Adam lived were nine hundred and thirty yea and\n",
      "nd thirty yea and he died . And Seth lived an hundred and five years , and bega\n",
      "ve years , and begat Enos : And Seth lived after he begat Enos eight hundred an\n",
      "welve years : and he died . And Enos lived ninety years , and begat Cainan : An\n",
      " years , and begat Cainan : And Enos lived after he begat Cainan eight hundred \n",
      "ive years : and he died . And Cainan lived seventy years and begat Mahalaleel :\n",
      "rs and begat Mahalaleel : And Cainan lived after he begat Mahalaleel eight hund\n",
      "years : and he died . And Mahalaleel lived sixty and five years , and begat Jar\n",
      "s , and begat Jared : And Mahalaleel lived after he begat Jared eight hundred a\n",
      "and five yea and he died . And Jared lived an hundred sixty and two years , and\n",
      "o years , and he begat Eno And Jared lived after he begat Enoch eight hundred y\n",
      " and two yea and he died . And Enoch lived sixty and five years , and begat Met\n",
      " ; for God took him . And Methuselah lived an hundred eighty and seven years , \n",
      " , and begat Lamech . And Methuselah lived after he begat Lamech seven hundred \n",
      "nd nine yea and he died . And Lamech lived an hundred eighty and two years , an\n",
      "ch the LORD hath cursed . And Lamech lived after he begat Noah five hundred nin\n",
      "naan shall be his servant . And Noah lived after the flood three hundred and fi\n",
      "xad two years after the flo And Shem lived after he begat Arphaxad five hundred\n",
      "at sons and daughters . And Arphaxad lived five and thirty years , and begat Sa\n",
      "ars , and begat Salah : And Arphaxad lived after he begat Salah four hundred an\n",
      "begat sons and daughters . And Salah lived thirty years , and begat Eber : And \n",
      "y years , and begat Eber : And Salah lived after he begat Eber four hundred and\n",
      " begat sons and daughters . And Eber lived four and thirty years , and begat Pe\n",
      "y years , and begat Peleg : And Eber lived after he begat Peleg four hundred an\n"
     ]
    }
   ],
   "source": [
    "# concordance() shows every occurence of a text.\n",
    "\n",
    "text1.concordance(\"monstrous\")\n",
    "text3.concordance(\"lived\")"
   ]
  },
  {
   "cell_type": "code",
   "execution_count": 14,
   "metadata": {},
   "outputs": [
    {
     "data": {
      "image/png": "[encoded data removed]",
      "text/plain": [
       "<matplotlib.figure.Figure at 0x7f2f31ce1a58>"
      ]
     },
     "metadata": {
      "needs_background": "light"
     },
     "output_type": "display_data"
    }
   ],
   "source": [
    "# dispersion plot: to determnie the location of a word in the text: how many words from beginning it appears.  \n",
    "# This positional information can be displayed using a dispersion plot. \n",
    "# stripe represent an instance of word, each row represent the entire text.\n",
    "\n",
    "%matplotlib inline\n",
    "text4.dispersion_plot([\"citizens\",\"democracy\",\"freedom\",\"duties\",\"America\"])\n"
   ]
  },
  {
   "cell_type": "code",
   "execution_count": 16,
   "metadata": {},
   "outputs": [
    {
     "name": "stderr",
     "output_type": "stream",
     "text": [
      "Building ngram index...\n"
     ]
    },
    {
     "name": "stdout",
     "output_type": "stream",
     "text": [
      "here !! - m - canada with cam girls pm me baby U109 .. get the hell\n",
      "aint JOIN I am PART lmao U5 i hate to see me , U111 ? The Offspring -\n",
      "Come Out Swinging ... . 2 ****** Welcome to #talkcity_adults ! the\n",
      "heck is that a roaring column of flame streaks out of uniform . I dont\n",
      "know how thats facilitated . chat ? .. but hey , a / f / FL pics ,\n",
      "wanna chat pm me Whaaa ? amy have offended him ? ACTION this song is\n",
      "so good night good u\n"
     ]
    },
    {
     "data": {
      "text/plain": [
       "'here !! - m - canada with cam girls pm me baby U109 .. get the hell\\naint JOIN I am PART lmao U5 i hate to see me , U111 ? The Offspring -\\nCome Out Swinging ... . 2 ****** Welcome to #talkcity_adults ! the\\nheck is that a roaring column of flame streaks out of uniform . I dont\\nknow how thats facilitated . chat ? .. but hey , a / f / FL pics ,\\nwanna chat pm me Whaaa ? amy have offended him ? ACTION this song is\\nso good night good u'"
      ]
     },
     "execution_count": 16,
     "metadata": {},
     "output_type": "execute_result"
    }
   ],
   "source": [
    "# generate random text \n",
    "\n",
    "text5.generate()"
   ]
  },
  {
   "cell_type": "code",
   "execution_count": 19,
   "metadata": {},
   "outputs": [
    {
     "data": {
      "text/plain": [
       "44764"
      ]
     },
     "execution_count": 19,
     "metadata": {},
     "output_type": "execute_result"
    }
   ],
   "source": [
    "# length of the tex,  count the words in text.\n",
    "\n",
    "len(text3)"
   ]
  },
  {
   "cell_type": "markdown",
   "metadata": {},
   "source": [
    "A Token is the technical name for a sequence of characters.  \n",
    "A Word Type is the form or spelling of the word independently of its specific occurrence in a text.  \n"
   ]
  },
  {
   "cell_type": "code",
   "execution_count": 20,
   "metadata": {},
   "outputs": [
    {
     "data": {
      "text/plain": [
       "2789"
      ]
     },
     "execution_count": 20,
     "metadata": {},
     "output_type": "execute_result"
    }
   ],
   "source": [
    "len(set(text3))   # 2789 distinct type of words. "
   ]
  },
  {
   "cell_type": "markdown",
   "metadata": {},
   "source": [
    "Lexical richness of the text. \n",
    "\n",
    "Lexical_diversity = len(text)/len(set(text))    = total tokens / total distinct words\n",
    "Percentage = 100*(count(word in text)/len(text)) "
   ]
  },
  {
   "cell_type": "code",
   "execution_count": 39,
   "metadata": {},
   "outputs": [
    {
     "name": "stdout",
     "output_type": "stream",
     "text": [
      "16.050197203298673\n",
      "0.7640067911714771\n",
      "lexical_diversity in text: 8.113797549967762\n",
      "percentage of work in text:  6.305867273710422\n"
     ]
    }
   ],
   "source": [
    "from __future__ import division\n",
    "print (len(text3)/len(set(text3)))\n",
    "\n",
    "print (100*(text3.count('a')/len(text3)))\n",
    "\n",
    "def lexical_diversity(text):\n",
    "    return len(text)/len(set(text))\n",
    "\n",
    "def percentage(a,text):\n",
    "    return 100*(text.count(a)/len(text))\n",
    "\n",
    "print (\"lexical_diversity in text:\" , lexical_diversity(text7))\n",
    "print (\"percentage of work in text: \", percentage(\"the\",text4))\n",
    "\n"
   ]
  },
  {
   "cell_type": "code",
   "execution_count": 52,
   "metadata": {},
   "outputs": [
    {
     "data": {
      "image/png": "[encoded data removed]",
      "text/plain": [
       "<matplotlib.figure.Figure at 0x7f2f31b78588>"
      ]
     },
     "metadata": {
      "needs_background": "light"
     },
     "output_type": "display_data"
    },
    {
     "data": {
      "text/plain": [
       "<matplotlib.axes._subplots.AxesSubplot at 0x7f2f31b4b898>"
      ]
     },
     "execution_count": 52,
     "metadata": {},
     "output_type": "execute_result"
    }
   ],
   "source": [
    "fdist = FreqDist(text1) # Frequency distribution tells us about the frequency of each token in text.\n",
    "fdist\n",
    "\n",
    "fdist.plot(50, cumulative=True) "
   ]
  },
  {
   "cell_type": "markdown",
   "metadata": {},
   "source": [
    "Natural Language Technologies: \n",
    "    \n",
    "    Word Sense Disambiguation\n",
    "    Pronoun Resolution\n",
    "    Generating Language Output\n",
    "    Machine Translation\n",
    "    Spoken Dialogue system"
   ]
  }
 ],
 "metadata": {
  "kernelspec": {
   "display_name": "Python 3",
   "language": "python",
   "name": "python3"
  },
  "language_info": {
   "codemirror_mode": {
    "name": "ipython",
    "version": 3
   },
   "file_extension": ".py",
   "mimetype": "text/x-python",
   "name": "python",
   "nbconvert_exporter": "python",
   "pygments_lexer": "ipython3",
   "version": "3.4.3"
  }
 },
 "nbformat": 4,
 "nbformat_minor": 2
}
