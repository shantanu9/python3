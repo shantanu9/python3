{
 "cells": [
  {
   "cell_type": "markdown",
   "metadata": {},
   "source": [
    " Wordnet is a large lexcial database of English. Noun, verbs, adjective and adverbs are grouped into sets of cognitive synonyms()synsets, each expressing a distinct concept. "
   ]
  },
  {
   "cell_type": "code",
   "execution_count": 41,
   "metadata": {},
   "outputs": [
    {
     "name": "stdout",
     "output_type": "stream",
     "text": [
      "[Synset('good.n.01'), Synset('good.n.02'), Synset('good.n.03'), Synset('commodity.n.01'), Synset('good.a.01'), Synset('full.s.06'), Synset('good.a.03'), Synset('estimable.s.02'), Synset('beneficial.s.01'), Synset('good.s.06'), Synset('good.s.07'), Synset('adept.s.01'), Synset('good.s.09'), Synset('dear.s.02'), Synset('dependable.s.04'), Synset('good.s.12'), Synset('good.s.13'), Synset('effective.s.04'), Synset('good.s.15'), Synset('good.s.16'), Synset('good.s.17'), Synset('good.s.18'), Synset('good.s.19'), Synset('good.s.20'), Synset('good.s.21'), Synset('well.r.01'), Synset('thoroughly.r.02')]\n",
      "[Lemma('good.n.01.good')]\n",
      "good\n",
      "['there is much good to be found in people']\n",
      "synonyms of good: {'undecomposed', 'just', 'well', 'effective', 'ripe', 'skillful', 'skilful', 'expert', 'adept', 'honorable', 'upright', 'full', 'respectable', 'practiced', 'good', 'soundly', 'beneficial', 'honest', 'safe', 'near', 'secure', 'thoroughly', 'dependable', 'serious', 'dear', 'goodness', 'unspoilt', 'in_effect', 'in_force', 'commodity', 'trade_good', 'right', 'salutary', 'proficient', 'sound', 'estimable', 'unspoiled'}\n",
      "antonyms of good: {'badness', 'ill', 'bad', 'evil', 'evilness'}\n",
      "1.0\n",
      "0.1111111111111111\n"
     ]
    }
   ],
   "source": [
    "from nltk.corpus import wordnet\n",
    "\n",
    "syns = wordnet.synsets(\"good\")\n",
    "\n",
    "#synset\n",
    "print (syns)\n",
    "\n",
    "# lemmmas in the synset\n",
    "print (syns[0].lemmas())   # gives the lemmas in syns[0]\n",
    "\n",
    "# names in the lemma > definition\n",
    "print (syns[0].lemmas()[0].name())   # gives name of the lemma\n",
    "\n",
    "# examples\n",
    "print (syns[1].examples())\n",
    "\n",
    "\n",
    "\n",
    "synonyms = []\n",
    "antonyms = []\n",
    "\n",
    "for syn in wordnet.synsets(\"good\"):\n",
    "    for l in syn.lemmas():\n",
    "        synonyms.append(l.name())\n",
    "        if l.antonyms():\n",
    "            antonyms.append(l.antonyms()[0].name())\n",
    "            \n",
    "\n",
    "            \n",
    "print (\"synonyms of good:\",set(synonyms))\n",
    "print (\"antonyms of good:\",set(antonyms))\n",
    " \n",
    "    \n",
    "    \n",
    "    \n",
    "# semantic similarity between words.    \n",
    "    \n",
    "w1 = wordnet.synset(\"good.n.01\")\n",
    "w2 = wordnet.synset(\"good.n.01\")\n",
    "\n",
    "print (w1.wup_similarity(w2))\n",
    "\n",
    "w3 = wordnet.synset(\"moon.n.01\")\n",
    "w4 = wordnet.synset(\"pluto.n.01\")\n",
    "\n",
    "print (w3.wup_similarity(w4))"
   ]
  }
 ],
 "metadata": {
  "kernelspec": {
   "display_name": "Python 3",
   "language": "python",
   "name": "python3"
  },
  "language_info": {
   "codemirror_mode": {
    "name": "ipython",
    "version": 3
   },
   "file_extension": ".py",
   "mimetype": "text/x-python",
   "name": "python",
   "nbconvert_exporter": "python",
   "pygments_lexer": "ipython3",
   "version": "3.4.3"
  }
 },
 "nbformat": 4,
 "nbformat_minor": 2
}
