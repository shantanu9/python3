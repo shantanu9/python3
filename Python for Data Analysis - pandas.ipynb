{
 "cells": [
  {
   "cell_type": "markdown",
   "metadata": {},
   "source": [
    "## Python for Data Analysis\n",
    "\n",
    "### Application of Python\n",
    "    Web Scrapping \n",
    "    Web Development\n",
    "    Testing\n",
    "    Data Analysis\n",
    "    \n",
    "### Data Life Cycle\n",
    "    Data in various format > Data Warehousing >  Data Analysis > Data Visualization\n",
    "    \n",
    "#### Pandas:  \n",
    "    is a software library written for the Python programming language for data manipulation and analysis\n",
    "    \n",
    "    \n",
    "#### Pandas Operation\n",
    "    Slicing the DataFrame\n",
    "    Joining and merging\n",
    "    Changing the index\n",
    "    Concatenation\n",
    "    Data Conversion\n",
    "    Changing the column headers\n",
    "    \n",
    "    "
   ]
  },
  {
   "cell_type": "code",
   "execution_count": 13,
   "metadata": {},
   "outputs": [
    {
     "name": "stdout",
     "output_type": "stream",
     "text": [
      "   Day  Visitor  bounce_rate\n",
      "0    1      100           20\n",
      "1    2      200           10\n",
      "   Day  Visitor  bounce_rate\n",
      "4    5     5334           32\n",
      "5    6     3534           76\n",
      "   HPI  IND_GDP_x  Int_rate_x  IND_GDP_y  Int_rate_y\n",
      "0   80         45           2         45           2\n",
      "1   90         56           3         56           3\n",
      "2   70         67           4         67           4\n",
      "3   60         78           5         78           5\n",
      "      IND_Curr  employment_rate   HPI  IND_GDP  Int_rate\n",
      "2001        45                2   NaN      NaN       NaN\n",
      "2009        56                3   NaN      NaN       NaN\n",
      "2007        67                4  70.0     67.0       4.0\n",
      "2008        78                5  60.0     78.0       5.0\n"
     ]
    },
    {
     "data": {
      "image/png": "[encoded data removed]",
      "text/plain": [
       "<matplotlib.figure.Figure at 0x7fdc32571f98>"
      ]
     },
     "metadata": {},
     "output_type": "display_data"
    }
   ],
   "source": [
    "import pandas as pd\n",
    "\n",
    "\n",
    "web_site = {\n",
    "    'Day':[1,2,3,4,5,6],\n",
    "    \"Visitor\":[100,200,321,343,5334,3534],\n",
    "    \"bounce_rate\":[20,10,23,43,32,76]\n",
    "}\n",
    "\n",
    "df = pd.DataFrame(web_site)     # to create dataframes from dictionary using pandas\n",
    "\n",
    "\n",
    "# Slicing\n",
    "print (df.head(2))   # slicing with head() \n",
    "print (df.tail(2))   # slicing with tail()\n",
    "\n",
    "\n",
    "# merging\n",
    "\n",
    "df1 = pd.DataFrame({\n",
    "    \"HPI\":[80,90,70,60],\n",
    "    \"Int_rate\":[2,3,4,5],\n",
    "    \"IND_GDP\":[45,56,67,78]\n",
    "}, index = [2001,2002,2003,2004])\n",
    "\n",
    "df2 = pd.DataFrame({\n",
    "    \"HPI\":[80,90,70,60],\n",
    "    \"Int_rate\":[2,3,4,5],\n",
    "    \"IND_GDP\":[45,56,67,78]\n",
    "}, index = [2005,2006,2007,2008])\n",
    "\n",
    "merge = pd.merge(df1,df2, on = \"HPI\")\n",
    "print (merge)\n",
    "\n",
    "\n",
    "\n",
    "# Joining\n",
    "\n",
    "df3 = pd.DataFrame({\n",
    "    \"employment_rate\":[2,3,4,5],\n",
    "    \"IND_Curr\":[45,56,67,78]\n",
    "}, index = [2001,2009,2007,2008]) \n",
    "\n",
    "joined = df3.join(df2)\n",
    "print (joined)\n",
    "\n",
    "\n",
    "#     Changing the column headers and index\n",
    "\n",
    "%matplotlib inline\n",
    "import matplotlib.pyplot as plt\n",
    "from matplotlib import style\n",
    "style.use(\"fivethirtyeight\")\n",
    "\n",
    "df4 = pd.DataFrame({\n",
    "    \"Day\": [1,2,3,4], \n",
    "    \"visitors\":[200,300,40,500], \n",
    "    \"bounce_rate\":[20,340,45,56]\n",
    "})\n",
    " \n",
    "df4.set_index(\"Day\", inplace =True)  # changing index\n",
    "#print (df4) \n",
    "\n",
    "df4.plot()        # to plot the graph using matplotlib\n",
    "plt.show()\n"
   ]
  },
  {
   "cell_type": "code",
   "execution_count": null,
   "metadata": {},
   "outputs": [],
   "source": []
  },
  {
   "cell_type": "code",
   "execution_count": null,
   "metadata": {},
   "outputs": [],
   "source": []
  },
  {
   "cell_type": "code",
   "execution_count": null,
   "metadata": {},
   "outputs": [],
   "source": []
  },
  {
   "cell_type": "code",
   "execution_count": null,
   "metadata": {},
   "outputs": [],
   "source": []
  }
 ],
 "metadata": {
  "kernelspec": {
   "display_name": "Python 3",
   "language": "python",
   "name": "python3"
  },
  "language_info": {
   "codemirror_mode": {
    "name": "ipython",
    "version": 3
   },
   "file_extension": ".py",
   "mimetype": "text/x-python",
   "name": "python",
   "nbconvert_exporter": "python",
   "pygments_lexer": "ipython3",
   "version": "3.4.3"
  }
 },
 "nbformat": 4,
 "nbformat_minor": 2
}
