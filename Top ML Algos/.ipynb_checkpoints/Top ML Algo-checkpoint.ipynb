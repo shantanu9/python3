{
 "cells": [
  {
   "cell_type": "markdown",
   "metadata": {},
   "source": [
    "#### Regression problem: \n",
    "housing price, inflation rate, stock price, Demand prediction\n",
    "\n",
    "output variable should be continuous in nature.  \n",
    "\n",
    "Linear and non linear\n",
    "\n",
    "#### Classification problem:  \n",
    "Binary classification,  multi-class classification,  Linear and non linear classification.  \n",
    "\n"
   ]
  },
  {
   "cell_type": "markdown",
   "metadata": {},
   "source": [
    "    Decision Tress,\n",
    "    Linear Regression\n",
    "    Logistics Regression\n",
    "    Naive Bayes Classification\n",
    "    K means Clustering\n",
    "    Support Vector Machine\n",
    "    Apriori\n",
    "    K nearest neighbours\n",
    "    Random Forest. \n",
    "    Principal component analysis. "
   ]
  },
  {
   "cell_type": "markdown",
   "metadata": {},
   "source": [
    "##### Decision Tree:  \n",
    "is a graphical representation of various decisions and their possible consequences, including chances like event, resource costs and utility.  \n",
    "\n",
    "it is decision support tool that uses tree like graph or model of decision. \n",
    "\n",
    "Internal Node:  Represents a test on the attribute. \n",
    "Branch : Represents the outcome of the test.\n",
    "Leaf Node: Represents a particular class label i.e the decision made after computing all the attributes. \n",
    "\n",
    "Classification Tree:  \n",
    "     Response variable is categrical in nature.  \n",
    "     Datasets are separated into different classes based on the response variables. \n",
    "     \n",
    "Regression Tree: \n",
    "    Response variable is continuous or numerical \n",
    "    Binary or continuous variable decision trees. \n",
    "    Linear and non- linear. \n",
    "    \n"
   ]
  },
  {
   "cell_type": "markdown",
   "metadata": {},
   "source": [
    "##### Linear Regression\n",
    "\n",
    "    Regression analysis is concerned with the study of dependence of one variable on one or more. \n",
    "    Dependent varible is the variable whose value we want to predict.  The independent varaiables are those variables which are expected to influence the dependent variable.\n",
    "    \n",
    "    quantity = a + b1*price + b2*income\n",
    "    \n",
    "    a is intercept,\n",
    "    b1,b2 slope coefficients or regression coefficients. \n",
    "    \n",
    "    quantity will be target of dependent variable.\n",
    "    price, income are the features. "
   ]
  },
  {
   "cell_type": "markdown",
   "metadata": {},
   "source": [
    "#### Logistic regression\n",
    "\n",
    "    classification problem\n",
    "    dependent variable is categorical. \n",
    "    It models the probabilites of the default class. \n",
    "    Multinomial logit model:  is one where dependent varuable can have three of more possible types.\n",
    "    \n",
    "    Function for logit model: \n",
    "    F(x) = 1/1+e^-(b0+b1*X)\n",
    "\n"
   ]
  },
  {
   "cell_type": "markdown",
   "metadata": {},
   "source": [
    "#### Naive Bayes\n",
    "\n",
    "    It is based on the Bayes' Theorem of probability. \n",
    "    \n",
    "    P(A/B) = P(B/A)*P(A)/P(B)\n",
    "    \n",
    "    P(A) and P(B) are the probabilities of observing A and B without regard to each other. \n",
    "    P(A|B) is the conditional probability, i.e probability of observing event A given B is true. \n",
    "    P(B|A) is the probability of observing event B given A is true.  \n",
    "    \n",
    "    Application of Naive Bayes classifier.  \n",
    "    \n",
    "    to classify a web page, document, an email.  \n",
    "    spam filter\n",
    "    sentiment analysis\n",
    "    Document categorization\n",
    "    "
   ]
  },
  {
   "cell_type": "markdown",
   "metadata": {},
   "source": [
    "#### K means clustering\n",
    "\n",
    "aims to partition 'n' observations into 'k' clusters in which each observation belongs to the cluster with the nearest mean. \n",
    "\n",
    "unsupervised algo for clustering. \n",
    "\n"
   ]
  },
  {
   "cell_type": "markdown",
   "metadata": {},
   "source": [
    "#### Support Vector Machines\n",
    "\n",
    "Supervised algo\n",
    "\n",
    "it tries to maximize the distance between various classes that are involved and is known as \"margin maximisation\"\n",
    "\n",
    "in linear svm, training data is separated by a hyper plane. In non liner data, separating by hyper plane is not possible. \n",
    "\n",
    "Stock market forecasting. \n"
   ]
  },
  {
   "cell_type": "markdown",
   "metadata": {},
   "source": [
    "#### Apriori Algo\n",
    "\n",
    "    unsupervised ML algo\n",
    "    It generated association rules from given daatasets\n",
    "    Association Rules:  if an event A occurs, then event B also occurs with certain probability. \n",
    "    Association rules are in the If-THEN foramt. \n",
    "    example:  If a person buys a car, he will most probably install a music system.\n",
    "    algo derives such conclusions by obersinng the number of people who bought the car and then installed the music system. This way the ratio is derived like if 100 people bought a car then 85 of then installed the music system. \n",
    "    \n",
    "    ecommerce companies recommends which items are purchased togther frequently. \n",
    "    "
   ]
  },
  {
   "cell_type": "markdown",
   "metadata": {},
   "source": [
    "#### K-Nearest Neighbours\n"
   ]
  },
  {
   "cell_type": "markdown",
   "metadata": {},
   "source": [
    "Random Forest"
   ]
  },
  {
   "cell_type": "markdown",
   "metadata": {},
   "source": [
    "Principal componet Analysis. \n"
   ]
  }
 ],
 "metadata": {
  "kernelspec": {
   "display_name": "Python 3",
   "language": "python",
   "name": "python3"
  },
  "language_info": {
   "codemirror_mode": {
    "name": "ipython",
    "version": 3
   },
   "file_extension": ".py",
   "mimetype": "text/x-python",
   "name": "python",
   "nbconvert_exporter": "python",
   "pygments_lexer": "ipython3",
   "version": "3.4.3"
  }
 },
 "nbformat": 4,
 "nbformat_minor": 2
}
